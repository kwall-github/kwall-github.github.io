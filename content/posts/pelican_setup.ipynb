{
 "cells": [
  {
   "cell_type": "markdown",
   "metadata": {},
   "source": [
    "# Pelican Setup\n",
    "\n",
    "How to:\n",
    "\n",
    "1. Add Jupyter nb to pelican\n",
    "2. Launch the pelican server\n",
    "3. Browse the local web site\n",
    "\n",
    "\n",
    "Resources\n",
    "\n",
    "https://www.dataquest.io/blog/how-to-setup-a-data-science-blog/\n",
    "\n",
    "https://blog.getpelican.com/category/news.html\n",
    "\n",
    "https://pypi.python.org/pypi/pelican\n"
   ]
  },
  {
   "cell_type": "markdown",
   "metadata": {},
   "source": [
    "## 1 Add Jupyter nb to pelican\n",
    "\n",
    "Consists of two parts:\n",
    "1. Prepare Juptyer nb, for pelican ingestion\n",
    "2. Generate html files\n",
    "\n",
    "### To prepare jupyter nb for pelican ingestion\n",
    "\n",
    "Add Jupyter notebooks to pelican (\"posts\")\n",
    "1. Copy Jupyter notebook into the content folder\n",
    "2. Make a .ipynb-meta file for that notebook with the following tags:\n",
    "\n",
    "Title: First Post\n",
    "\n",
    "Slug: first-post\n",
    "\n",
    "Date: 2016-06-08 20:00\n",
    "\n",
    "Category: posts\n",
    "\n",
    "Tags: python firsts\n",
    "\n",
    "author: Vik Paruchuri\n",
    "\n",
    "Summary: My first post, read it to find out.\n",
    "\n",
    "\n",
    "### Generate html files\n",
    "\n",
    "1. source activate py35       # All pelican stuff was pip into py35 virtual environment\n",
    "2. cd ~/MEGA/jupyter-blog     # The place I chose to put all pelican stuff\n",
    "3. pelican                    # Set up the paths used by pelican (provided, I did not make this)\n",
    "\n"
   ]
  },
  {
   "cell_type": "markdown",
   "metadata": {},
   "source": [
    "## 2 Launch the pelican server\n",
    "\n",
    "In a simple terminal window\n",
    "\n",
    "1. source activate py35             # All pelican stuff was pip into py35 virtual environment\n",
    "2. cd ~/MEGA/jupyter-blog/output    # The place I chose to put all pelican stuff\n",
    "3. python -m pelican.server   # runs the pelican server process on localhost:8000"
   ]
  },
  {
   "cell_type": "markdown",
   "metadata": {},
   "source": [
    "## 3 Connect to pelican web server\n",
    "In your browser:\n",
    "1. localhost:8000\n"
   ]
  }
 ],
 "metadata": {
  "kernelspec": {
   "display_name": "Python [conda env:py35]",
   "language": "python",
   "name": "conda-env-py35-py"
  },
  "language_info": {
   "codemirror_mode": {
    "name": "ipython",
    "version": 3
   },
   "file_extension": ".py",
   "mimetype": "text/x-python",
   "name": "python",
   "nbconvert_exporter": "python",
   "pygments_lexer": "ipython3",
   "version": "3.5.2"
  }
 },
 "nbformat": 4,
 "nbformat_minor": 2
}
