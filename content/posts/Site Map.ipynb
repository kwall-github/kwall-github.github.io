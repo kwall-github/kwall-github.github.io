{
 "cells": [
  {
   "cell_type": "markdown",
   "metadata": {},
   "source": [
    "# Site map\n",
    "\n",
    "There is a section (category) for each CB module, starting with:\n",
    "1. CBN - the list of Candian college baseball players\n",
    "2. CBSN - the stats of Canadian college baseball players\n",
    "3. Archive - report from previous years\n"
   ]
  },
  {
   "cell_type": "markdown",
   "metadata": {},
   "source": [
    "## CBN\n",
    "\n",
    "The CBN module is repsonsible for connecting players on the CBN CIC and LOI web pages to both the schools roster and the organization roster.\n",
    "\n",
    "- The CBN CIC web page is a list of all current Canadian college baseball players (700+ in 2017).\n",
    "\n",
    "http://www.canadianbaseballnetwork.com/new-blog-62//2017-canadians-in-college\n",
    "\n",
    "- The CBN LOI web page is a list of future Canadian college baseball players\n",
    "\n",
    "https://www.canadianbaseballnetwork.com/canadian-baseball-network-letters-of-intent/\n",
    "\n",
    "\n",
    "\n",
    "### connecting CBN players to school rosters\n",
    "Schools release their rosters between July-Feb.  The cb_schools module collects school rosters.  The CBN module will connect CBN players with the cb_schools module rosters.\n",
    "\n",
    "### connection CBN players to org rosters\n",
    "Organizations release their rosters before the start of the season, usually Feb.  The cb_orgs modules collects the organizations rosters.  The CBN module will connect CBN players with the cb_orgs module rosters.\n",
    "\n",
    "### CBN report usage\n",
    "The CBN report will provide:\n",
    "- useful counts of CBN players, school rosters collected, org rosters collected\n",
    "- New Canadian players (players in schools rosters but not in CBN roster).\n",
    "- Missing players (players in CBN rosters, but not in collected school roster).\n",
    "\n",
    "### CBN report diffusion\n",
    "The CBN report is shared with CBN so they may update their CBN CIC webpage\n",
    "\n",
    "\n",
    "\n",
    "\n",
    "\n",
    "\n",
    "\n",
    "Before the season starts we have a CBN roster, but no other information - so no connections yet.   As Schools start to publish their rosters CBN module will connect\n",
    "\n",
    "\n",
    "\n",
    "\n"
   ]
  },
  {
   "cell_type": "markdown",
   "metadata": {},
   "source": [
    "## CBSN\n",
    "The CBSN module is repsonsible for reporting on the game stats of the players in the CBN roster that have been connected to the cb_orgs rosters.\n",
    "\n",
    "The CBSN report can be for any time period.  During the season we run weekly reports for the CBN College Wrap.  At the end of the season we run the same report specifyin the period as the whole season (Feb 1 - June 30).\n",
    "\n"
   ]
  },
  {
   "cell_type": "code",
   "execution_count": null,
   "metadata": {
    "collapsed": true
   },
   "outputs": [],
   "source": []
  }
 ],
 "metadata": {
  "kernelspec": {
   "display_name": "Python [conda env:py35]",
   "language": "python",
   "name": "conda-env-py35-py"
  },
  "language_info": {
   "codemirror_mode": {
    "name": "ipython",
    "version": 3
   },
   "file_extension": ".py",
   "mimetype": "text/x-python",
   "name": "python",
   "nbconvert_exporter": "python",
   "pygments_lexer": "ipython3",
   "version": "3.5.2"
  }
 },
 "nbformat": 4,
 "nbformat_minor": 2
}
