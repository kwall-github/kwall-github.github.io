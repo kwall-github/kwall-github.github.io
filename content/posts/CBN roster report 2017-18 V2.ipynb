{
 "cells": [
  {
   "cell_type": "markdown",
   "metadata": {},
   "source": [
    "# CBN roster report 2017-18\n",
    "\n",
    "Reports on CBN roster, with special interest to the completedness/progress of School rosters collection and Candian player detection.\n",
    "\n",
    "## CBN roster\n",
    "We track/collect players listed on the CBN Letter of Intent (LOI) web page and the Canadians in College (CIC) web pages.  The players on these two CBN web pages get merged into one CBN roster. \n",
    "\n",
    "## School rosters\n",
    "We track/collect the school rosters of over 1500 schools.  Schools publish their Spring baseball rosters betweeen July through Feb.  Each week we 'poll' the schools web site to see if their Spring roster is available. The Schools rosters are used to detect Canadian players (in the hometown field).\n",
    "\n",
    "## New players detected\n",
    "We compare the detected Canadian players in the School rosters with the players in the CBN roster.  Any Canadian players in the School roster not in the CBN roster is report to CBN so they may add it to there CIC web page.\n"
   ]
  },
  {
   "cell_type": "markdown",
   "metadata": {},
   "source": [
    "# Report methodology\n",
    "\n",
    "1. First we report on the CBN roster, showing total players and schools.  We verify that all schools in the CBN roster are 'known' to school rosters.\n",
    "\n",
    "2. Next, we report on the status of school roster collections, showing the count of total 'known' schools and the count of school rosters collected.  We also show the schools with Canadian players and the total number of Canadian players detected\n",
    "\n",
    "3. Then we classify every CBN player as one of: school_roster_not_collected_yet, player_found, player_not_found. \n",
    "\n",
    "4. The we identify any players from the school roster with Canadian hometowns that are not in the CBN roster.  These players are trasmitted (via email) to CBN so they may add them to CIC web page."
   ]
  },
  {
   "cell_type": "code",
   "execution_count": 1,
   "metadata": {
    "collapsed": true
   },
   "outputs": [],
   "source": [
    "import CBN_roster_report_2018\n",
    "%matplotlib inline\n",
    "\n",
    "DATA_MODULE_YEAR = '2018'   # The top level data directory identifier\n",
    "PSETNAME =  \"CBN 2018\"      # The identifier for the CBN roster\n",
    "PLAYING_SEASON = '2018'     # The Spring 2017-18 identifier, for school rosters\n",
    "\n",
    "report_obj = CBN_roster_report_2018.CBN_roster_report(DATA_MODULE_YEAR, PSETNAME, PLAYING_SEASON)"
   ]
  },
  {
   "cell_type": "markdown",
   "metadata": {},
   "source": [
    "# 1 CBN roster"
   ]
  },
  {
   "cell_type": "markdown",
   "metadata": {},
   "source": [
    "## 1.1 CBN roster description"
   ]
  },
  {
   "cell_type": "code",
   "execution_count": 2,
   "metadata": {},
   "outputs": [
    {
     "name": "stdout",
     "output_type": "stream",
     "text": [
      "Using CBN rosters created 2017-08-07 15:48:12.697207\n",
      "903 players attending 373 schools\n",
      "\n",
      "The players come from these CBN pages and edition dates\n",
      "CIC web page 2017-08-03    741\n",
      "LOI web page 2017-08-02    162\n",
      "Name: CBN_SOURCE, dtype: int64\n",
      "\n",
      "Note: some players appear on both the CIC web page and the LOI web page.\n",
      "This happens when a player switches schools.\n",
      "For players that appear on both LOI and CIC web pages, the LOI information is used.\n",
      "This will cause the CIC player count to be lower than actual number of players on CIC web page\n"
     ]
    }
   ],
   "source": [
    "report_obj.print_cbn_roster_desc()"
   ]
  },
  {
   "cell_type": "markdown",
   "metadata": {},
   "source": [
    "## 1.2 Compare CBN schools with all known schools"
   ]
  },
  {
   "cell_type": "code",
   "execution_count": 3,
   "metadata": {},
   "outputs": [
    {
     "name": "stdout",
     "output_type": "stream",
     "text": [
      "schoolcontrol.SchoolControl has 1596 schools\n",
      "Canadians play in 373 schools of the 1596 known schools (23.4%)\n"
     ]
    },
    {
     "data": {
      "image/png": "[encoded data removed]",
      "text/plain": [
       "<matplotlib.figure.Figure at 0x7f66a137bac8>"
      ]
     },
     "metadata": {},
     "output_type": "display_data"
    }
   ],
   "source": [
    "report_obj.compare_cbn_all_schools()"
   ]
  },
  {
   "cell_type": "markdown",
   "metadata": {},
   "source": [
    "## 1.3 Compare CBN schools with collected schools"
   ]
  },
  {
   "cell_type": "code",
   "execution_count": 4,
   "metadata": {},
   "outputs": [
    {
     "name": "stdout",
     "output_type": "stream",
     "text": [
      "GOOD: All schools in CBN rosters are known to Schools module\n"
     ]
    }
   ],
   "source": [
    "report_obj.compare_cbn_collected_schools()"
   ]
  },
  {
   "cell_type": "markdown",
   "metadata": {},
   "source": [
    "# Report on how many CBN schools collected/not collected"
   ]
  },
  {
   "cell_type": "markdown",
   "metadata": {},
   "source": [
    "# Schools venn diagram\n",
    "\n",
    "Provides a lot of useful information on the progress of the collection.\n",
    "\n",
    "## Three main circles\n",
    "There are three main circles, All, Collected and CBN.   The school count for each group is shown in their title.\n",
    "We see that CBN and Collected schools are both contained within All schools, which is good and tells us the school data is consistent.\n",
    "1. All Schools, the red circle\n",
    "2. Collected schools , the brown circle\n",
    "3. CBN schools, the purple circle\n",
    "\n",
    "\n",
    "## CBN circle (purple)\n",
    "The CBN circle sits entirely within the All schools circle (good).  Further the CBN circle intersects with the collected schools circle.  The intersection area (greyish) shows the count of schools that are in CBN and have been collected.  The count of schools that are in CBN but NOT collected is shown in the purple area.\n",
    "\n",
    "\n",
    "## Collected circle (brown)\n",
    "The collected circle also sits entirely within the All schools circle (good).  Further, the collected circle intersects with the CBN cirlce .  The intersection area (greyish) shows the cound of schools that have been collected and are in the CBN schools.  The count of schools whose rosters have been collected that are not in CBN is shown in the brown area.\n",
    "\n",
    "## All circle (red)\n",
    "The red circle contains both the CBN and collected cirle and represents all known schools.  The count of schools that have not been collected AND do not belong to CBN schools is shown in red.  These schools present the opportunitity to discover new Canadian players (as their school rosters are collected).\n",
    "\n",
    "In the CBN title we see the count of all CBN schools. We see that the whole CBN circle is contained within All schools.  This is good, it tells us our school data is consistent.   Further we can see count of CBN schools that have been collected in the interesection with the collected schools circle.  And we can see the count of schools in CBN that have not yet been collected.\n",
    "\n",
    "\n",
    "\n",
    "1. Looking at the CBN schools (the purple circle), of the 373 schools, 326 schools have not been collected and 47 have been collected.\n",
    "2. Looking at the Collected rosters (the brown circle), 166 schools collected fo not belong to CBN, but 47 do.\n",
    "3. The large red cirle shows 1058 are schools that do not belong to CBN and have not been collected yet.  This is the opportunity to find new Canadians."
   ]
  },
  {
   "cell_type": "code",
   "execution_count": 5,
   "metadata": {},
   "outputs": [
    {
     "name": "stdout",
     "output_type": "stream",
     "text": [
      "Schools rosters file date: 2017-08-11 05:25:07.707283\n",
      "Schools rosters collected: 225 schools with 6538 players\n",
      "CBN schools collected/not collected/total: 51/322/373 (13.7%)\n"
     ]
    },
    {
     "data": {
      "image/png": "[encoded data removed]",
      "text/plain": [
       "<matplotlib.figure.Figure at 0x7f66a137b908>"
      ]
     },
     "metadata": {},
     "output_type": "display_data"
    }
   ],
   "source": [
    "report_obj.report_collected_not_collected()"
   ]
  },
  {
   "cell_type": "markdown",
   "metadata": {},
   "source": [
    "## Classify the players as:\n",
    "1. school_not_collected\n",
    "2. player_found\n",
    "3. player_NF\n",
    "\n",
    "You know this has already been done when we created the CBN, so our work here is simply\n",
    "using the data in the cbn file.\n",
    "In fact, we could do the above test of collected/not collected without consulting the schools rosters ... but let's consult as a means to detect other types of errors is numbers do not line up exactly.\n",
    "\n",
    "\n"
   ]
  },
  {
   "cell_type": "code",
   "execution_count": 6,
   "metadata": {},
   "outputs": [
    {
     "name": "stdout",
     "output_type": "stream",
     "text": [
      "school_not_collected    783\n",
      "player_found             77\n",
      "player_NF                43\n",
      "Name: report_classification, dtype: int64\n",
      "...Writing school_not_collected players to cbn_school_not_collected.csv\n",
      "...Writing player_found players to cbn_player_found.csv\n",
      "...Writing player_NF players to cbn_player_NF.csv\n",
      "\n",
      "\n",
      " *** PLAYERS in CBN that are not found on school 2018 roster....\n",
      "Benedictine College, Reid Fritzke, http://www.ravenathletics.com/roster/21/3.php\n",
      "Benedictine College, Brody Burnett, http://www.ravenathletics.com/roster/21/3.php\n",
      "Briar Cliff University, J.P. Martin, http://www.bcuchargers.com/roster/16/1.php\n",
      "Campbellsville University, Zach Lampreia, http://www.campbellsvilletigers.com/roster.aspx?path=baseball&roster=747\n",
      "Concordia University Ann Arbor, Abdallah Salman, http://www.concordiacardinals.com/roster/20/6.php\n",
      "Culver-Stockton College, Matt Blair-Brown, http://www.cscwildcats.com/roster/21/3.php\n",
      "Culver-Stockton College, Nathan Halliday, http://www.cscwildcats.com/roster/21/3.php\n",
      "Goshen College, Preston Carr, http://www.goleafs.net/roster/72/3.php\n",
      "Goshen College, Vincent Caschera, http://www.goleafs.net/roster/72/3.php\n",
      "Hannibal–LaGrange University, Jordan Kight, http://www.hlgtrojans.com/roster/15/3.php\n",
      "Lawrence Technological University, Sam Cawker, http://www.LTUAthletics.com/roster/15/24.php\n",
      "Mount Mercy University, Adam Marra, http://www.mountmercymustangs.com/roster/15/3.php\n",
      "Mount Mercy University, Devin Holmes, http://www.mountmercymustangs.com/roster/15/3.php\n",
      "Mount Mercy University, Jason Darichuk, http://www.mountmercymustangs.com/roster/15/3.php\n",
      "Our Lady of the Lake University, Dallas Forno, http://www.ollusaintsathletics.com/roster/20/22.php\n",
      "University of Jamestown, Brandon Radmacher, http://www.jimmieathletics.com/roster/18/3.php\n",
      "Waldorf University, Dave Erickson, http://www.waldorfwarriors.com/roster/16/3.php\n",
      "Middle Tennessee State University, Elliott Curtis, http://goblueraiders.com/roster.aspx?path=baseball&roster=1271\n",
      "Minot State University, Paul Vogelsang, http://msubeavers.com/roster.aspx?path=baseball&roster=155\n",
      "Minot State University, Kendal Daniels, http://msubeavers.com/roster.aspx?path=baseball&roster=155\n",
      "Minot State University, Jordan Schulz, http://msubeavers.com/roster.aspx?path=baseball&roster=155\n",
      "Minot State University, Sean Alp, http://msubeavers.com/roster.aspx?path=baseball&roster=155\n",
      "Mississippi College, Austin Warkentin, http://gochoctaws.com/roster.aspx?path=baseball&roster=182\n",
      "Notre Dame College, Andrew Raponi, http://notredamefalcons.com/roster.aspx?path=baseball&roster=246\n",
      "Notre Dame College, Jonathan Kovack, http://notredamefalcons.com/roster.aspx?path=baseball&roster=246\n",
      "Notre Dame College, Danny Beaver, http://notredamefalcons.com/roster.aspx?path=baseball&roster=246\n",
      "University of Arkansas-Little Rock, Bryce Dimitroff, http://LRTrojans.com/roster.aspx?path=baseball&roster=183\n",
      "University of North Florida, Chris Thibideau, http://unfospreys.com/roster.aspx?path=baseball&roster=362\n",
      "University of Tampa, J.D. Osborne, http://tampaspartans.com/sports/bsb/2017-18/roster\n",
      "Clarendon College, Frédéric Fauteux, http://athletics.clarendoncollege.edu/baseballroster\n",
      "Dodge City Community College, Robbie Watson, http://www.goconqs.com/roster.aspx?path=baseball&roster=1063\n",
      "Dodge City Community College, Dalton Harvey, http://www.goconqs.com/roster.aspx?path=baseball&roster=1063\n",
      "Vernon College, Tony Pharand, http://www.vernoncollege.edu/baseballroster\n",
      "Vernon College, Dakota Curry, http://www.vernoncollege.edu/baseballroster\n",
      "Western Texas College, Owen Bessette, http://wtcathletics.com/sports/bsb/2017-18/roster\n",
      "Indiana Tech University, Griffin Sanford, http://www.IndianaTechWarriors.com/roster.aspx?path=baseball&roster=183\n",
      "Arkansas State University, Kyle MacDonald, http://astateredwolves.com/SportSelect.dbml?DB_OEM_ID=7200&SPID=2740&SPSID=35026&DB_OEM_ID=7200&KEY=&Q_SEASON=2017\n",
      "Arkansas State University, Andrew Leggo, http://astateredwolves.com/SportSelect.dbml?DB_OEM_ID=7200&SPID=2740&SPSID=35026&DB_OEM_ID=7200&KEY=&Q_SEASON=2017\n",
      "Minot State University, Nathan Slobodian, http://msubeavers.com/roster.aspx?path=baseball&roster=155\n",
      "Minot State University, Cameron Deasy, http://msubeavers.com/roster.aspx?path=baseball&roster=155\n",
      "Minot State University, Zach Newman, http://msubeavers.com/roster.aspx?path=baseball&roster=155\n",
      "Pratt Community College, Lucas Wepf, http://gobeaversports.com/sports/bsb/2017-18/roster\n",
      "Pratt Community College, Connor Green, http://gobeaversports.com/sports/bsb/2017-18/roster\n"
     ]
    }
   ],
   "source": [
    "report_obj.classify_cbn_players()"
   ]
  },
  {
   "cell_type": "markdown",
   "metadata": {},
   "source": [
    "# Candians in Collected rosters but not in CBN rosters\n"
   ]
  },
  {
   "cell_type": "code",
   "execution_count": 7,
   "metadata": {},
   "outputs": [
    {
     "name": "stdout",
     "output_type": "stream",
     "text": [
      "89 Canadians detected in collected schools roster\n",
      "12 canadian(s) not in CBN roster\n",
      "...Writing notin_df.csv\n",
      "\n",
      " New players...\n",
      "University of Pikeville, Brendan Halstrom, British Columbia, Canada, http://upikebears.com/roster.aspx?path=baseball&roster=197\n",
      "University of Pikeville, Luke Lubiniecki, Regina Saskatchewan, Canada, http://upikebears.com/roster.aspx?path=baseball&roster=197\n",
      "Colorado Mesa University, Andrew Malone, Calgary, Alberta, http://cmumavericks.com/roster.aspx?path=baseball&roster=134\n",
      "Colorado Mesa University, Dustin Robirtis, Victoria, B.C., http://cmumavericks.com/roster.aspx?path=baseball&roster=134\n",
      "Cloud County Community College, Aidan Huggins, Edmonton, Alberta Canada, http://www.cloudtbirds.com/sports/bsb/2017-18/roster\n",
      "Cloud County Community College, Cole Jackson, Thorsby, Alberta Canada, http://www.cloudtbirds.com/sports/bsb/2017-18/roster\n",
      "Cloud County Community College, Corben Peters, Ottawa, Ontario Canada, http://www.cloudtbirds.com/sports/bsb/2017-18/roster\n",
      "Cloud County Community College, Erik Sabrowski, Edmonton, Alberta Canada, http://www.cloudtbirds.com/sports/bsb/2017-18/roster\n",
      "Cloud County Community College, Finnigan Duffield, Edmonton, Alberta Canada, http://www.cloudtbirds.com/sports/bsb/2017-18/roster\n",
      "Cloud County Community College, Matt Bondarchuk, Edmonton, Alberta, http://www.cloudtbirds.com/sports/bsb/2017-18/roster\n",
      "Cloud County Community College, Tauren Langley, Edmonton, Alberta, http://www.cloudtbirds.com/sports/bsb/2017-18/roster\n",
      "Cleary University , Ethan Jodouin, Sudbury, Ontario, http://www.clearycougars.com/roster/15/1.php\n"
     ]
    }
   ],
   "source": [
    "report_obj.cdn_not_in_cbn()"
   ]
  },
  {
   "cell_type": "code",
   "execution_count": null,
   "metadata": {
    "collapsed": true
   },
   "outputs": [],
   "source": []
  }
 ],
 "metadata": {
  "kernelspec": {
   "display_name": "Python [conda env:py35]",
   "language": "python",
   "name": "conda-env-py35-py"
  },
  "language_info": {
   "codemirror_mode": {
    "name": "ipython",
    "version": 3
   },
   "file_extension": ".py",
   "mimetype": "text/x-python",
   "name": "python",
   "nbconvert_exporter": "python",
   "pygments_lexer": "ipython3",
   "version": "3.5.2"
  }
 },
 "nbformat": 4,
 "nbformat_minor": 2
}
